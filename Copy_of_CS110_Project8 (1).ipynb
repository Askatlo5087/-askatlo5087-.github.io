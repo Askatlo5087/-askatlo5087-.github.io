{
  "cells": [
    {
      "cell_type": "markdown",
      "metadata": {
        "id": "67EnmE7UyvGQ"
      },
      "source": [
        "# **NOTE:** Use File > Save a copy in Drive to make a copy before doing anything else"
      ]
    },
    {
      "cell_type": "markdown",
      "metadata": {
        "id": "k9inRDqsrzgH"
      },
      "source": [
        "# Project 8: Student Habits vs Academic Performance Analysis"
      ]
    },
    {
      "cell_type": "markdown",
      "metadata": {
        "id": "MG06QCn_wgm3"
      },
      "source": [
        "#### Overview"
      ]
    },
    {
      "cell_type": "markdown",
      "metadata": {
        "id": "5_LvU75Xw-NZ"
      },
      "source": [
        "This project analyzes the relationship between student lifestyle habits and academic performance using a comprehensive dataset from Kaggle. The dataset contains information about 1,000 students and includes 16 variables covering various aspects of student life, including study habits, social media usage, sleep patterns, diet quality, exercise frequency, and academic outcomes.\n",
        "\n",
        "The analysis focuses on understanding how different study patterns correlate with exam performance.The project demonstrates fundamental data analysis skills including data cleaning, statistical calculations, and comparative analysis using Python and pandas."
      ]
    },
    {
      "cell_type": "code",
      "execution_count": 1,
      "metadata": {
        "colab": {
          "base_uri": "https://localhost:8080/"
        },
        "id": "MximtRiH2K-V",
        "outputId": "22ca73c4-abaf-4b88-efa9-2f0c59d08414"
      },
      "outputs": [
        {
          "name": "stderr",
          "output_type": "stream",
          "text": [
            "<ipython-input-1-9526af902db9>:11: DeprecationWarning: load_dataset is deprecated and will be removed in a future version.\n",
            "  df = kagglehub.load_dataset(\n"
          ]
        },
        {
          "name": "stdout",
          "output_type": "stream",
          "text": [
            "First 5 records:   student_id  age  gender  study_hours_per_day  social_media_hours  \\\n",
            "0      S1000   23  Female                  0.0                 1.2   \n",
            "1      S1001   20  Female                  6.9                 2.8   \n",
            "2      S1002   21    Male                  1.4                 3.1   \n",
            "3      S1003   23  Female                  1.0                 3.9   \n",
            "4      S1004   19  Female                  5.0                 4.4   \n",
            "\n",
            "   netflix_hours part_time_job  attendance_percentage  sleep_hours  \\\n",
            "0            1.1            No                   85.0          8.0   \n",
            "1            2.3            No                   97.3          4.6   \n",
            "2            1.3            No                   94.8          8.0   \n",
            "3            1.0            No                   71.0          9.2   \n",
            "4            0.5            No                   90.9          4.9   \n",
            "\n",
            "  diet_quality  exercise_frequency parental_education_level internet_quality  \\\n",
            "0         Fair                   6                   Master          Average   \n",
            "1         Good                   6              High School          Average   \n",
            "2         Poor                   1              High School             Poor   \n",
            "3         Poor                   4                   Master             Good   \n",
            "4         Fair                   3                   Master             Good   \n",
            "\n",
            "   mental_health_rating extracurricular_participation  exam_score  \n",
            "0                     8                           Yes        56.2  \n",
            "1                     8                            No       100.0  \n",
            "2                     1                            No        34.3  \n",
            "3                     1                           Yes        26.8  \n",
            "4                     1                            No        66.4  \n"
          ]
        }
      ],
      "source": [
        "# Install dependencies as needed:\n",
        "# pip install kagglehub[pandas-datasets]\n",
        "import kagglehub\n",
        "from kagglehub import KaggleDatasetAdapter\n",
        "\n",
        "# Set the path to the file you'd like to load\n",
        "# Update file_path to point to the specific file within the dataset\n",
        "file_path = \"student_habits_performance.csv\"\n",
        "\n",
        "# Load the latest version\n",
        "df = kagglehub.load_dataset(\n",
        "  KaggleDatasetAdapter.PANDAS,\n",
        "  \"jayaantanaath/student-habits-vs-academic-performance\",\n",
        "  file_path,\n",
        "  # Provide any additional arguments like\n",
        "  # sql_query or pandas_kwargs. See the\n",
        "  # documenation for more information:\n",
        "  # https://github.com/Kaggle/kagglehub/blob/main/README.md#kaggledatasetadapterpandas\n",
        ")\n",
        "\n",
        "print(\"First 5 records:\", df.head())"
      ]
    },
    {
      "cell_type": "code",
      "execution_count": 2,
      "metadata": {
        "id": "kPZhne6uILDn"
      },
      "outputs": [],
      "source": [
        "one_col = df['age']"
      ]
    },
    {
      "cell_type": "code",
      "execution_count": 3,
      "metadata": {
        "colab": {
          "base_uri": "https://localhost:8080/",
          "height": 204
        },
        "id": "acozQawFIPAu",
        "outputId": "193aeaed-fb49-41ec-c0d8-22857ac841f3"
      },
      "outputs": [
        {
          "data": {
            "text/html": [
              "<div style=\"max-width:800px; border: 1px solid var(--colab-border-color);\"><style>\n",
              "      pre.function-repr-contents {\n",
              "        overflow-x: auto;\n",
              "        padding: 8px 12px;\n",
              "        max-height: 500px;\n",
              "      }\n",
              "\n",
              "      pre.function-repr-contents.function-repr-contents-collapsed {\n",
              "        cursor: pointer;\n",
              "        max-height: 100px;\n",
              "      }\n",
              "    </style>\n",
              "    <pre style=\"white-space: initial; background:\n",
              "         var(--colab-secondary-surface-color); padding: 8px 12px;\n",
              "         border-bottom: 1px solid var(--colab-border-color);\"><b>pandas.core.series.Series</b><br/>def __init__(data=None, index=None, dtype: Dtype | None=None, name=None, copy: bool | None=None, fastpath: bool | lib.NoDefault=lib.no_default) -&gt; None</pre><pre class=\"function-repr-contents function-repr-contents-collapsed\" style=\"\"><a class=\"filepath\" style=\"display:none\" href=\"#\">/usr/local/lib/python3.11/dist-packages/pandas/core/series.py</a>One-dimensional ndarray with axis labels (including time series).\n",
              "\n",
              "Labels need not be unique but must be a hashable type. The object\n",
              "supports both integer- and label-based indexing and provides a host of\n",
              "methods for performing operations involving the index. Statistical\n",
              "methods from ndarray have been overridden to automatically exclude\n",
              "missing data (currently represented as NaN).\n",
              "\n",
              "Operations between Series (+, -, /, \\*, \\*\\*) align values based on their\n",
              "associated index values-- they need not be the same length. The result\n",
              "index will be the sorted union of the two indexes.\n",
              "\n",
              "Parameters\n",
              "----------\n",
              "data : array-like, Iterable, dict, or scalar value\n",
              "    Contains data stored in Series. If data is a dict, argument order is\n",
              "    maintained.\n",
              "index : array-like or Index (1d)\n",
              "    Values must be hashable and have the same length as `data`.\n",
              "    Non-unique index values are allowed. Will default to\n",
              "    RangeIndex (0, 1, 2, ..., n) if not provided. If data is dict-like\n",
              "    and index is None, then the keys in the data are used as the index. If the\n",
              "    index is not None, the resulting Series is reindexed with the index values.\n",
              "dtype : str, numpy.dtype, or ExtensionDtype, optional\n",
              "    Data type for the output Series. If not specified, this will be\n",
              "    inferred from `data`.\n",
              "    See the :ref:`user guide &lt;basics.dtypes&gt;` for more usages.\n",
              "name : Hashable, default None\n",
              "    The name to give to the Series.\n",
              "copy : bool, default False\n",
              "    Copy input data. Only affects Series or 1d ndarray input. See examples.\n",
              "\n",
              "Notes\n",
              "-----\n",
              "Please reference the :ref:`User Guide &lt;basics.series&gt;` for more information.\n",
              "\n",
              "Examples\n",
              "--------\n",
              "Constructing Series from a dictionary with an Index specified\n",
              "\n",
              "&gt;&gt;&gt; d = {&#x27;a&#x27;: 1, &#x27;b&#x27;: 2, &#x27;c&#x27;: 3}\n",
              "&gt;&gt;&gt; ser = pd.Series(data=d, index=[&#x27;a&#x27;, &#x27;b&#x27;, &#x27;c&#x27;])\n",
              "&gt;&gt;&gt; ser\n",
              "a   1\n",
              "b   2\n",
              "c   3\n",
              "dtype: int64\n",
              "\n",
              "The keys of the dictionary match with the Index values, hence the Index\n",
              "values have no effect.\n",
              "\n",
              "&gt;&gt;&gt; d = {&#x27;a&#x27;: 1, &#x27;b&#x27;: 2, &#x27;c&#x27;: 3}\n",
              "&gt;&gt;&gt; ser = pd.Series(data=d, index=[&#x27;x&#x27;, &#x27;y&#x27;, &#x27;z&#x27;])\n",
              "&gt;&gt;&gt; ser\n",
              "x   NaN\n",
              "y   NaN\n",
              "z   NaN\n",
              "dtype: float64\n",
              "\n",
              "Note that the Index is first build with the keys from the dictionary.\n",
              "After this the Series is reindexed with the given Index values, hence we\n",
              "get all NaN as a result.\n",
              "\n",
              "Constructing Series from a list with `copy=False`.\n",
              "\n",
              "&gt;&gt;&gt; r = [1, 2]\n",
              "&gt;&gt;&gt; ser = pd.Series(r, copy=False)\n",
              "&gt;&gt;&gt; ser.iloc[0] = 999\n",
              "&gt;&gt;&gt; r\n",
              "[1, 2]\n",
              "&gt;&gt;&gt; ser\n",
              "0    999\n",
              "1      2\n",
              "dtype: int64\n",
              "\n",
              "Due to input data type the Series has a `copy` of\n",
              "the original data even though `copy=False`, so\n",
              "the data is unchanged.\n",
              "\n",
              "Constructing Series from a 1d ndarray with `copy=False`.\n",
              "\n",
              "&gt;&gt;&gt; r = np.array([1, 2])\n",
              "&gt;&gt;&gt; ser = pd.Series(r, copy=False)\n",
              "&gt;&gt;&gt; ser.iloc[0] = 999\n",
              "&gt;&gt;&gt; r\n",
              "array([999,   2])\n",
              "&gt;&gt;&gt; ser\n",
              "0    999\n",
              "1      2\n",
              "dtype: int64\n",
              "\n",
              "Due to input data type the Series has a `view` on\n",
              "the original data, so\n",
              "the data is changed as well.</pre>\n",
              "      <script>\n",
              "      if (google.colab.kernel.accessAllowed && google.colab.files && google.colab.files.view) {\n",
              "        for (const element of document.querySelectorAll('.filepath')) {\n",
              "          element.style.display = 'block'\n",
              "          element.onclick = (event) => {\n",
              "            event.preventDefault();\n",
              "            event.stopPropagation();\n",
              "            google.colab.files.view(element.textContent, 263);\n",
              "          };\n",
              "        }\n",
              "      }\n",
              "      for (const element of document.querySelectorAll('.function-repr-contents')) {\n",
              "        element.onclick = (event) => {\n",
              "          event.preventDefault();\n",
              "          event.stopPropagation();\n",
              "          element.classList.toggle('function-repr-contents-collapsed');\n",
              "        };\n",
              "      }\n",
              "      </script>\n",
              "      </div>"
            ],
            "text/plain": [
              "pandas.core.series.Series"
            ]
          },
          "execution_count": 3,
          "metadata": {},
          "output_type": "execute_result"
        }
      ],
      "source": [
        "type(one_col)"
      ]
    },
    {
      "cell_type": "code",
      "execution_count": 4,
      "metadata": {
        "colab": {
          "base_uri": "https://localhost:8080/"
        },
        "id": "5PpwVc4y295F",
        "outputId": "4621847a-fca7-48aa-b813-a6a5cdcfc41d"
      },
      "outputs": [
        {
          "name": "stdout",
          "output_type": "stream",
          "text": [
            "<class 'pandas.core.frame.DataFrame'>\n",
            "RangeIndex: 1000 entries, 0 to 999\n",
            "Data columns (total 16 columns):\n",
            " #   Column                         Non-Null Count  Dtype  \n",
            "---  ------                         --------------  -----  \n",
            " 0   student_id                     1000 non-null   object \n",
            " 1   age                            1000 non-null   int64  \n",
            " 2   gender                         1000 non-null   object \n",
            " 3   study_hours_per_day            1000 non-null   float64\n",
            " 4   social_media_hours             1000 non-null   float64\n",
            " 5   netflix_hours                  1000 non-null   float64\n",
            " 6   part_time_job                  1000 non-null   object \n",
            " 7   attendance_percentage          1000 non-null   float64\n",
            " 8   sleep_hours                    1000 non-null   float64\n",
            " 9   diet_quality                   1000 non-null   object \n",
            " 10  exercise_frequency             1000 non-null   int64  \n",
            " 11  parental_education_level       909 non-null    object \n",
            " 12  internet_quality               1000 non-null   object \n",
            " 13  mental_health_rating           1000 non-null   int64  \n",
            " 14  extracurricular_participation  1000 non-null   object \n",
            " 15  exam_score                     1000 non-null   float64\n",
            "dtypes: float64(6), int64(3), object(7)\n",
            "memory usage: 125.1+ KB\n"
          ]
        }
      ],
      "source": [
        "df.info()"
      ]
    },
    {
      "cell_type": "code",
      "execution_count": 5,
      "metadata": {
        "colab": {
          "base_uri": "https://localhost:8080/"
        },
        "id": "SqFCmWs2259S",
        "outputId": "f054687f-6a69-4d33-d840-a27108929d2b"
      },
      "outputs": [
        {
          "data": {
            "text/plain": [
              "(1000, 16)"
            ]
          },
          "execution_count": 5,
          "metadata": {},
          "output_type": "execute_result"
        }
      ],
      "source": [
        "df.shape"
      ]
    },
    {
      "cell_type": "code",
      "execution_count": 6,
      "metadata": {
        "colab": {
          "base_uri": "https://localhost:8080/"
        },
        "id": "zw4k9vaQ27YW",
        "outputId": "12a879c6-9469-4ce5-82a6-a38ebd80b361"
      },
      "outputs": [
        {
          "data": {
            "text/plain": [
              "Index(['student_id', 'age', 'gender', 'study_hours_per_day',\n",
              "       'social_media_hours', 'netflix_hours', 'part_time_job',\n",
              "       'attendance_percentage', 'sleep_hours', 'diet_quality',\n",
              "       'exercise_frequency', 'parental_education_level', 'internet_quality',\n",
              "       'mental_health_rating', 'extracurricular_participation', 'exam_score'],\n",
              "      dtype='object')"
            ]
          },
          "execution_count": 6,
          "metadata": {},
          "output_type": "execute_result"
        }
      ],
      "source": [
        "df.columns"
      ]
    },
    {
      "cell_type": "markdown",
      "metadata": {
        "id": "ArLKTW8Y3NII"
      },
      "source": [
        "### clean the data"
      ]
    },
    {
      "cell_type": "code",
      "execution_count": 7,
      "metadata": {
        "colab": {
          "base_uri": "https://localhost:8080/",
          "height": 586
        },
        "id": "omXaY3f43Do-",
        "outputId": "7767b9e4-dd03-4cee-a999-9b34dabc0511"
      },
      "outputs": [
        {
          "data": {
            "text/html": [
              "<div>\n",
              "<style scoped>\n",
              "    .dataframe tbody tr th:only-of-type {\n",
              "        vertical-align: middle;\n",
              "    }\n",
              "\n",
              "    .dataframe tbody tr th {\n",
              "        vertical-align: top;\n",
              "    }\n",
              "\n",
              "    .dataframe thead th {\n",
              "        text-align: right;\n",
              "    }\n",
              "</style>\n",
              "<table border=\"1\" class=\"dataframe\">\n",
              "  <thead>\n",
              "    <tr style=\"text-align: right;\">\n",
              "      <th></th>\n",
              "      <th>0</th>\n",
              "    </tr>\n",
              "  </thead>\n",
              "  <tbody>\n",
              "    <tr>\n",
              "      <th>student_id</th>\n",
              "      <td>0</td>\n",
              "    </tr>\n",
              "    <tr>\n",
              "      <th>age</th>\n",
              "      <td>0</td>\n",
              "    </tr>\n",
              "    <tr>\n",
              "      <th>gender</th>\n",
              "      <td>0</td>\n",
              "    </tr>\n",
              "    <tr>\n",
              "      <th>study_hours_per_day</th>\n",
              "      <td>0</td>\n",
              "    </tr>\n",
              "    <tr>\n",
              "      <th>social_media_hours</th>\n",
              "      <td>0</td>\n",
              "    </tr>\n",
              "    <tr>\n",
              "      <th>netflix_hours</th>\n",
              "      <td>0</td>\n",
              "    </tr>\n",
              "    <tr>\n",
              "      <th>part_time_job</th>\n",
              "      <td>0</td>\n",
              "    </tr>\n",
              "    <tr>\n",
              "      <th>attendance_percentage</th>\n",
              "      <td>0</td>\n",
              "    </tr>\n",
              "    <tr>\n",
              "      <th>sleep_hours</th>\n",
              "      <td>0</td>\n",
              "    </tr>\n",
              "    <tr>\n",
              "      <th>diet_quality</th>\n",
              "      <td>0</td>\n",
              "    </tr>\n",
              "    <tr>\n",
              "      <th>exercise_frequency</th>\n",
              "      <td>0</td>\n",
              "    </tr>\n",
              "    <tr>\n",
              "      <th>parental_education_level</th>\n",
              "      <td>91</td>\n",
              "    </tr>\n",
              "    <tr>\n",
              "      <th>internet_quality</th>\n",
              "      <td>0</td>\n",
              "    </tr>\n",
              "    <tr>\n",
              "      <th>mental_health_rating</th>\n",
              "      <td>0</td>\n",
              "    </tr>\n",
              "    <tr>\n",
              "      <th>extracurricular_participation</th>\n",
              "      <td>0</td>\n",
              "    </tr>\n",
              "    <tr>\n",
              "      <th>exam_score</th>\n",
              "      <td>0</td>\n",
              "    </tr>\n",
              "  </tbody>\n",
              "</table>\n",
              "</div><br><label><b>dtype:</b> int64</label>"
            ],
            "text/plain": [
              "student_id                        0\n",
              "age                               0\n",
              "gender                            0\n",
              "study_hours_per_day               0\n",
              "social_media_hours                0\n",
              "netflix_hours                     0\n",
              "part_time_job                     0\n",
              "attendance_percentage             0\n",
              "sleep_hours                       0\n",
              "diet_quality                      0\n",
              "exercise_frequency                0\n",
              "parental_education_level         91\n",
              "internet_quality                  0\n",
              "mental_health_rating              0\n",
              "extracurricular_participation     0\n",
              "exam_score                        0\n",
              "dtype: int64"
            ]
          },
          "execution_count": 7,
          "metadata": {},
          "output_type": "execute_result"
        }
      ],
      "source": [
        "df.isnull().sum()"
      ]
    },
    {
      "cell_type": "markdown",
      "metadata": {
        "id": "0PvO8lB_3eTF"
      },
      "source": [
        "This checks how many missing (NaN) values are in each column of the DataFrame. Based on the output:\n",
        "\n",
        "All columns have 0 missing values except for parental_education_level, which has 91 missing values."
      ]
    },
    {
      "cell_type": "markdown",
      "metadata": {
        "id": "Una6tw9b3fXp"
      },
      "source": [
        "The dataset is mostly clean, but you do need to clean or handle the missing data in the parental_education_level column."
      ]
    },
    {
      "cell_type": "markdown",
      "metadata": {
        "id": "y1c_nKOM3zpO"
      },
      "source": [
        "#### Fill with a default or common value"
      ]
    },
    {
      "cell_type": "markdown",
      "metadata": {
        "id": "zGCqWwoD3h3R"
      },
      "source": [
        "#### drop rows with missing values"
      ]
    },
    {
      "cell_type": "code",
      "execution_count": 8,
      "metadata": {
        "id": "lrKFMyll3piC"
      },
      "outputs": [],
      "source": [
        "df.dropna(subset=['parental_education_level'], inplace=True)\n"
      ]
    },
    {
      "cell_type": "code",
      "execution_count": 9,
      "metadata": {
        "colab": {
          "base_uri": "https://localhost:8080/",
          "height": 586
        },
        "id": "mPCSuas25wMj",
        "outputId": "ecf4f503-c5bb-4e3a-f800-6019f27f9fb9"
      },
      "outputs": [
        {
          "data": {
            "text/html": [
              "<div>\n",
              "<style scoped>\n",
              "    .dataframe tbody tr th:only-of-type {\n",
              "        vertical-align: middle;\n",
              "    }\n",
              "\n",
              "    .dataframe tbody tr th {\n",
              "        vertical-align: top;\n",
              "    }\n",
              "\n",
              "    .dataframe thead th {\n",
              "        text-align: right;\n",
              "    }\n",
              "</style>\n",
              "<table border=\"1\" class=\"dataframe\">\n",
              "  <thead>\n",
              "    <tr style=\"text-align: right;\">\n",
              "      <th></th>\n",
              "      <th>0</th>\n",
              "    </tr>\n",
              "  </thead>\n",
              "  <tbody>\n",
              "    <tr>\n",
              "      <th>student_id</th>\n",
              "      <td>0</td>\n",
              "    </tr>\n",
              "    <tr>\n",
              "      <th>age</th>\n",
              "      <td>0</td>\n",
              "    </tr>\n",
              "    <tr>\n",
              "      <th>gender</th>\n",
              "      <td>0</td>\n",
              "    </tr>\n",
              "    <tr>\n",
              "      <th>study_hours_per_day</th>\n",
              "      <td>0</td>\n",
              "    </tr>\n",
              "    <tr>\n",
              "      <th>social_media_hours</th>\n",
              "      <td>0</td>\n",
              "    </tr>\n",
              "    <tr>\n",
              "      <th>netflix_hours</th>\n",
              "      <td>0</td>\n",
              "    </tr>\n",
              "    <tr>\n",
              "      <th>part_time_job</th>\n",
              "      <td>0</td>\n",
              "    </tr>\n",
              "    <tr>\n",
              "      <th>attendance_percentage</th>\n",
              "      <td>0</td>\n",
              "    </tr>\n",
              "    <tr>\n",
              "      <th>sleep_hours</th>\n",
              "      <td>0</td>\n",
              "    </tr>\n",
              "    <tr>\n",
              "      <th>diet_quality</th>\n",
              "      <td>0</td>\n",
              "    </tr>\n",
              "    <tr>\n",
              "      <th>exercise_frequency</th>\n",
              "      <td>0</td>\n",
              "    </tr>\n",
              "    <tr>\n",
              "      <th>parental_education_level</th>\n",
              "      <td>0</td>\n",
              "    </tr>\n",
              "    <tr>\n",
              "      <th>internet_quality</th>\n",
              "      <td>0</td>\n",
              "    </tr>\n",
              "    <tr>\n",
              "      <th>mental_health_rating</th>\n",
              "      <td>0</td>\n",
              "    </tr>\n",
              "    <tr>\n",
              "      <th>extracurricular_participation</th>\n",
              "      <td>0</td>\n",
              "    </tr>\n",
              "    <tr>\n",
              "      <th>exam_score</th>\n",
              "      <td>0</td>\n",
              "    </tr>\n",
              "  </tbody>\n",
              "</table>\n",
              "</div><br><label><b>dtype:</b> int64</label>"
            ],
            "text/plain": [
              "student_id                       0\n",
              "age                              0\n",
              "gender                           0\n",
              "study_hours_per_day              0\n",
              "social_media_hours               0\n",
              "netflix_hours                    0\n",
              "part_time_job                    0\n",
              "attendance_percentage            0\n",
              "sleep_hours                      0\n",
              "diet_quality                     0\n",
              "exercise_frequency               0\n",
              "parental_education_level         0\n",
              "internet_quality                 0\n",
              "mental_health_rating             0\n",
              "extracurricular_participation    0\n",
              "exam_score                       0\n",
              "dtype: int64"
            ]
          },
          "execution_count": 9,
          "metadata": {},
          "output_type": "execute_result"
        }
      ],
      "source": [
        "# checking the data again\n",
        "df.isnull().sum()"
      ]
    },
    {
      "cell_type": "markdown",
      "metadata": {
        "id": "2yE2YtA_r3ds"
      },
      "source": [
        "### Questions to Answer\n",
        "\n",
        "Please find the answer for the following questoins."
      ]
    },
    {
      "cell_type": "markdown",
      "metadata": {
        "id": "sgGW30Qvr_FD"
      },
      "source": [
        "1. Find the average study hours per day for all students. Please create a code cell below this to answer the question.(0.5 point)"
      ]
    },
    {
      "cell_type": "code",
      "execution_count": 10,
      "metadata": {
        "colab": {
          "base_uri": "https://localhost:8080/"
        },
        "id": "FFaeFLCQwgOK",
        "outputId": "3ef39008-69ac-4d42-c529-34d775faa4d8"
      },
      "outputs": [
        {
          "name": "stdout",
          "output_type": "stream",
          "text": [
            "Average study hours per day: 3.5387238723872385\n"
          ]
        }
      ],
      "source": [
        "# prompt: find the average study hours per day for all students\n",
        "\n",
        "print(\"Average study hours per day:\", df['study_hours_per_day'].mean())"
      ]
    },
    {
      "cell_type": "markdown",
      "metadata": {
        "id": "lUoQnqklspQh"
      },
      "source": [
        "2. Identify the student who studies MOST hours per day. Please create a code cell below to answer the question.(0.5 point)"
      ]
    },
    {
      "cell_type": "code",
      "execution_count": 11,
      "metadata": {
        "colab": {
          "base_uri": "https://localhost:8080/"
        },
        "id": "HwkEfnR9wn4B",
        "outputId": "dee3152a-8367-424c-8224-f3bce9a3914b"
      },
      "outputs": [
        {
          "name": "stdout",
          "output_type": "stream",
          "text": [
            "Student(s) who study the most hours per day:\n",
            "    student_id  study_hours_per_day\n",
            "455      S1455                  8.3\n"
          ]
        }
      ],
      "source": [
        "# prompt: identify the student who studies the most hours per day\n",
        "\n",
        "# Find the student(s) with the maximum study hours per day\n",
        "max_study_hours = df['study_hours_per_day'].max()\n",
        "students_most_hours = df[df['study_hours_per_day'] == max_study_hours]\n",
        "\n",
        "print(\"Student(s) who study the most hours per day:\")\n",
        "print(students_most_hours[['student_id', 'study_hours_per_day']])\n"
      ]
    },
    {
      "cell_type": "markdown",
      "metadata": {
        "id": "JBGkxjPMtBR3"
      },
      "source": [
        "3. Count how many students study more than 6 hours per day. Please create a code cell below this to answer the question.(0.5 point)"
      ]
    },
    {
      "cell_type": "code",
      "execution_count": 12,
      "metadata": {
        "colab": {
          "base_uri": "https://localhost:8080/"
        },
        "id": "Yhn7cSLZw8A0",
        "outputId": "60867642-3e97-4bc5-d5bc-7cb946bfa443"
      },
      "outputs": [
        {
          "name": "stdout",
          "output_type": "stream",
          "text": [
            "Number of students who study more than 6 hours per day: 40\n"
          ]
        }
      ],
      "source": [
        "# prompt: count how many students study more than 6 hours per day\n",
        "\n",
        "# Filter students who study more than 6 hours per day\n",
        "students_more_than_6_hours = df[df['study_hours_per_day'] > 6]\n",
        "\n",
        "# Count the number of students\n",
        "count_students_more_than_6_hours = len(students_more_than_6_hours)\n",
        "\n",
        "print(\"Number of students who study more than 6 hours per day:\", count_students_more_than_6_hours)\n"
      ]
    },
    {
      "cell_type": "markdown",
      "metadata": {
        "id": "y53oBYVWtV9Y"
      },
      "source": [
        "4. What is the percentage of students who study more than 6 hours per day. Please create a code cell below this to answer the question.(0.5 point)"
      ]
    },
    {
      "cell_type": "code",
      "execution_count": 13,
      "metadata": {
        "colab": {
          "base_uri": "https://localhost:8080/"
        },
        "id": "DEkTI7L0xP-7",
        "outputId": "ae2cb437-89e5-49f5-ee71-f4ec25fe6d92"
      },
      "outputs": [
        {
          "name": "stdout",
          "output_type": "stream",
          "text": [
            "Percentage of students who study more than 6 hours per day: 4.40%\n"
          ]
        }
      ],
      "source": [
        "# prompt: what is the percentage of students who study more than 6 hours per day\n",
        "\n",
        "# Calculate the total number of students after dropping rows with missing parental_education_level\n",
        "total_students = len(df)\n",
        "\n",
        "# Calculate the percentage\n",
        "percentage_students_more_than_6_hours = (count_students_more_than_6_hours / total_students) * 100\n",
        "\n",
        "print(f\"Percentage of students who study more than 6 hours per day: {percentage_students_more_than_6_hours:.2f}%\")"
      ]
    },
    {
      "cell_type": "markdown",
      "metadata": {
        "id": "2VksRzuQtlkw"
      },
      "source": [
        "5. Calculate what percentage of students study less than 2 hours per day. Please create a code cell below this to answer the question.(0.5 point)"
      ]
    },
    {
      "cell_type": "code",
      "execution_count": 14,
      "metadata": {
        "colab": {
          "base_uri": "https://localhost:8080/"
        },
        "id": "LNTBs7iIxVg0",
        "outputId": "225c68ad-f8df-4f94-dcd0-cde877eb0fd5"
      },
      "outputs": [
        {
          "name": "stdout",
          "output_type": "stream",
          "text": [
            "Percentage of students who study less than 2 hours per day: 13.53%\n"
          ]
        }
      ],
      "source": [
        "# prompt: calculate what percentage of students study less than 2 hours per day\n",
        "\n",
        "# Filter students who study less than 2 hours per day\n",
        "students_less_than_2_hours = df[df['study_hours_per_day'] < 2]\n",
        "\n",
        "# Count the number of students\n",
        "count_students_less_than_2_hours = len(students_less_than_2_hours)\n",
        "\n",
        "# Calculate the total number of students after dropping rows with missing parental_education_level\n",
        "total_students = len(df)\n",
        "\n",
        "# Calculate the percentage\n",
        "percentage_students_less_than_2_hours = (count_students_less_than_2_hours / total_students) * 100\n",
        "\n",
        "print(f\"Percentage of students who study less than 2 hours per day: {percentage_students_less_than_2_hours:.2f}%\")"
      ]
    },
    {
      "cell_type": "markdown",
      "metadata": {
        "id": "hcjzS2BzuO6U"
      },
      "source": [
        "6. Do students who study more than 5 hours per day have higher exam scores on average? Please create a code cell below to answer this question. (0.5 point)"
      ]
    },
    {
      "cell_type": "code",
      "execution_count": 15,
      "metadata": {
        "colab": {
          "base_uri": "https://localhost:8080/"
        },
        "id": "jGPgWKH7xbb_",
        "outputId": "aa950f73-ea61-45f7-a107-116887aecb9c"
      },
      "outputs": [
        {
          "name": "stdout",
          "output_type": "stream",
          "text": [
            "Average exam score for students who study more than 5 hours per day: 91.12\n",
            "Average exam score for students who study 5 hours or less per day: 65.67\n",
            "Yes, students who study more than 5 hours per day have higher exam scores on average.\n"
          ]
        }
      ],
      "source": [
        "# prompt: do students who study more than 5 hours per day have higher exam scores on average\n",
        "\n",
        "# Separate students into two groups: those who study more than 5 hours and those who don't\n",
        "students_more_than_5_hours = df[df['study_hours_per_day'] > 5]\n",
        "students_5_hours_or_less = df[df['study_hours_per_day'] <= 5]\n",
        "\n",
        "# Calculate the average exam score for each group\n",
        "avg_exam_score_more_than_5_hours = students_more_than_5_hours['exam_score'].mean()\n",
        "avg_exam_score_5_hours_or_less = students_5_hours_or_less['exam_score'].mean()\n",
        "\n",
        "print(f\"Average exam score for students who study more than 5 hours per day: {avg_exam_score_more_than_5_hours:.2f}\")\n",
        "print(f\"Average exam score for students who study 5 hours or less per day: {avg_exam_score_5_hours_or_less:.2f}\")\n",
        "\n",
        "# Compare the average scores\n",
        "if avg_exam_score_more_than_5_hours > avg_exam_score_5_hours_or_less:\n",
        "  print(\"Yes, students who study more than 5 hours per day have higher exam scores on average.\")\n",
        "elif avg_exam_score_more_than_5_hours < avg_exam_score_5_hours_or_less:\n",
        "  print(\"No, students who study more than 5 hours per day do not have higher exam scores on average.\")\n",
        "else:\n",
        "  print(\"The average exam scores are the same for both groups.\")"
      ]
    },
    {
      "cell_type": "markdown",
      "metadata": {
        "id": "VSWzlwCCQ4v0"
      },
      "source": []
    },
    {
      "cell_type": "markdown",
      "metadata": {
        "id": "QT5H-jYfupn-"
      },
      "source": [
        "7. Use \"Explain code\" for the code you produced for Question 6 and summarize in your own words to show that you understood the code Gemini produced. Please create a text cell below to answer this question. (0.5 point)"
      ]
    },
    {
      "cell_type": "markdown",
      "metadata": {
        "id": "3oRd1UJlyxTR"
      },
      "source": [
        "For question 6 the code starts out by seperating the students with more than 5 hours worth of studying daily and the students with less than 5 hours daily, after that it calculates the average exam scores for the students in each group. With this information the code is now able to print the average scores for each group and compare them. It then proceeds to use an if, then, else, statement to print out the final answer telling you if or if not students with more than 5 hours of studying do better on exams on average and prints that out in the answer."
      ]
    },
    {
      "cell_type": "markdown",
      "metadata": {
        "id": "dfF8PaJavTzI"
      },
      "source": [
        "8. The codes produced to answer the questions use \"vectorization\"? Please justify your answer with an example. Please create a text cell below to answer this question. (0.5 point)"
      ]
    },
    {
      "cell_type": "markdown",
      "metadata": {
        "id": "rV7QxouG0II1"
      },
      "source": [
        "The code uses vectorization in it to summarize the data set and improve response time. This is seen in the first part of the code where it is finding and seperating the students who studied for more than and less than 5 hours. instead of having to input the whole data set manually and have it seperate it instead we are able to input the 'study_hours_per_day' and it will pull the data set, this makes it so there is less for the code to go over making thre response time more efficent and the code more consice"
      ]
    },
    {
      "cell_type": "markdown",
      "metadata": {
        "id": "vHQLG2nkOVaM"
      },
      "source": [
        "Count how many students study more than 6 hours per day. Please create a code cell below this to answer the question.(0.5 point)"
      ]
    },
    {
      "cell_type": "code",
      "execution_count": 17,
      "metadata": {
        "colab": {
          "base_uri": "https://localhost:8080/"
        },
        "id": "oI0EM8Z12HUW",
        "outputId": "f805cca1-3195-45a8-bdd7-9c47e8b3eda1"
      },
      "outputs": [
        {
          "name": "stdout",
          "output_type": "stream",
          "text": [
            "Number of students who study more than 6 hours per day: 40\n"
          ]
        }
      ],
      "source": [
        "# prompt: count how many students study more than 6 hours per day\n",
        "\n",
        "# Filter students who study more than 6 hours per day\n",
        "students_more_than_6_hours = df[df['study_hours_per_day'] > 6]\n",
        "\n",
        "# Count the number of students\n",
        "count_students_more_than_6_hours = len(students_more_than_6_hours)\n",
        "\n",
        "print(\"Number of students who study more than 6 hours per day:\", count_students_more_than_6_hours)"
      ]
    },
    {
      "cell_type": "code",
      "execution_count": 18,
      "metadata": {
        "colab": {
          "base_uri": "https://localhost:8080/",
          "height": 458
        },
        "id": "Z31YvDMEOV5-",
        "outputId": "5716b671-4421-4243-b31e-f8eb31ae5102"
      },
      "outputs": [
        {
          "data": {
            "text/html": [
              "<div>\n",
              "<style scoped>\n",
              "    .dataframe tbody tr th:only-of-type {\n",
              "        vertical-align: middle;\n",
              "    }\n",
              "\n",
              "    .dataframe tbody tr th {\n",
              "        vertical-align: top;\n",
              "    }\n",
              "\n",
              "    .dataframe thead th {\n",
              "        text-align: right;\n",
              "    }\n",
              "</style>\n",
              "<table border=\"1\" class=\"dataframe\">\n",
              "  <thead>\n",
              "    <tr style=\"text-align: right;\">\n",
              "      <th></th>\n",
              "      <th>study_hours_per_day</th>\n",
              "    </tr>\n",
              "  </thead>\n",
              "  <tbody>\n",
              "    <tr>\n",
              "      <th>0</th>\n",
              "      <td>0.0</td>\n",
              "    </tr>\n",
              "    <tr>\n",
              "      <th>1</th>\n",
              "      <td>6.9</td>\n",
              "    </tr>\n",
              "    <tr>\n",
              "      <th>2</th>\n",
              "      <td>1.4</td>\n",
              "    </tr>\n",
              "    <tr>\n",
              "      <th>3</th>\n",
              "      <td>1.0</td>\n",
              "    </tr>\n",
              "    <tr>\n",
              "      <th>4</th>\n",
              "      <td>5.0</td>\n",
              "    </tr>\n",
              "    <tr>\n",
              "      <th>...</th>\n",
              "      <td>...</td>\n",
              "    </tr>\n",
              "    <tr>\n",
              "      <th>995</th>\n",
              "      <td>2.6</td>\n",
              "    </tr>\n",
              "    <tr>\n",
              "      <th>996</th>\n",
              "      <td>2.9</td>\n",
              "    </tr>\n",
              "    <tr>\n",
              "      <th>997</th>\n",
              "      <td>3.0</td>\n",
              "    </tr>\n",
              "    <tr>\n",
              "      <th>998</th>\n",
              "      <td>5.4</td>\n",
              "    </tr>\n",
              "    <tr>\n",
              "      <th>999</th>\n",
              "      <td>4.3</td>\n",
              "    </tr>\n",
              "  </tbody>\n",
              "</table>\n",
              "<p>909 rows × 1 columns</p>\n",
              "</div><br><label><b>dtype:</b> float64</label>"
            ],
            "text/plain": [
              "0      0.0\n",
              "1      6.9\n",
              "2      1.4\n",
              "3      1.0\n",
              "4      5.0\n",
              "      ... \n",
              "995    2.6\n",
              "996    2.9\n",
              "997    3.0\n",
              "998    5.4\n",
              "999    4.3\n",
              "Name: study_hours_per_day, Length: 909, dtype: float64"
            ]
          },
          "execution_count": 18,
          "metadata": {},
          "output_type": "execute_result"
        }
      ],
      "source": [
        "df['study_hours_per_day']"
      ]
    },
    {
      "cell_type": "code",
      "execution_count": 19,
      "metadata": {
        "colab": {
          "base_uri": "https://localhost:8080/",
          "height": 458
        },
        "id": "WSQzN9lXOcWL",
        "outputId": "931bc4fe-ef41-4806-c2de-c7481b23bea7"
      },
      "outputs": [
        {
          "data": {
            "text/html": [
              "<div>\n",
              "<style scoped>\n",
              "    .dataframe tbody tr th:only-of-type {\n",
              "        vertical-align: middle;\n",
              "    }\n",
              "\n",
              "    .dataframe tbody tr th {\n",
              "        vertical-align: top;\n",
              "    }\n",
              "\n",
              "    .dataframe thead th {\n",
              "        text-align: right;\n",
              "    }\n",
              "</style>\n",
              "<table border=\"1\" class=\"dataframe\">\n",
              "  <thead>\n",
              "    <tr style=\"text-align: right;\">\n",
              "      <th></th>\n",
              "      <th>study_hours_per_day</th>\n",
              "    </tr>\n",
              "  </thead>\n",
              "  <tbody>\n",
              "    <tr>\n",
              "      <th>0</th>\n",
              "      <td>False</td>\n",
              "    </tr>\n",
              "    <tr>\n",
              "      <th>1</th>\n",
              "      <td>True</td>\n",
              "    </tr>\n",
              "    <tr>\n",
              "      <th>2</th>\n",
              "      <td>False</td>\n",
              "    </tr>\n",
              "    <tr>\n",
              "      <th>3</th>\n",
              "      <td>False</td>\n",
              "    </tr>\n",
              "    <tr>\n",
              "      <th>4</th>\n",
              "      <td>False</td>\n",
              "    </tr>\n",
              "    <tr>\n",
              "      <th>...</th>\n",
              "      <td>...</td>\n",
              "    </tr>\n",
              "    <tr>\n",
              "      <th>995</th>\n",
              "      <td>False</td>\n",
              "    </tr>\n",
              "    <tr>\n",
              "      <th>996</th>\n",
              "      <td>False</td>\n",
              "    </tr>\n",
              "    <tr>\n",
              "      <th>997</th>\n",
              "      <td>False</td>\n",
              "    </tr>\n",
              "    <tr>\n",
              "      <th>998</th>\n",
              "      <td>False</td>\n",
              "    </tr>\n",
              "    <tr>\n",
              "      <th>999</th>\n",
              "      <td>False</td>\n",
              "    </tr>\n",
              "  </tbody>\n",
              "</table>\n",
              "<p>909 rows × 1 columns</p>\n",
              "</div><br><label><b>dtype:</b> bool</label>"
            ],
            "text/plain": [
              "0      False\n",
              "1       True\n",
              "2      False\n",
              "3      False\n",
              "4      False\n",
              "       ...  \n",
              "995    False\n",
              "996    False\n",
              "997    False\n",
              "998    False\n",
              "999    False\n",
              "Name: study_hours_per_day, Length: 909, dtype: bool"
            ]
          },
          "execution_count": 19,
          "metadata": {},
          "output_type": "execute_result"
        }
      ],
      "source": [
        "df['study_hours_per_day'] > 6"
      ]
    },
    {
      "cell_type": "code",
      "execution_count": 20,
      "metadata": {
        "colab": {
          "base_uri": "https://localhost:8080/"
        },
        "id": "XVH_GdByOwiX",
        "outputId": "958b1fef-7c5d-4c1e-e840-2961951f0727"
      },
      "outputs": [
        {
          "data": {
            "text/plain": [
              "np.int64(40)"
            ]
          },
          "execution_count": 20,
          "metadata": {},
          "output_type": "execute_result"
        }
      ],
      "source": [
        "# prompt: Count how many students study more than 6 hours per day.\n",
        "\n",
        "(df['study_hours_per_day'] > 6).sum()"
      ]
    },
    {
      "cell_type": "code",
      "execution_count": 21,
      "metadata": {
        "colab": {
          "base_uri": "https://localhost:8080/"
        },
        "id": "JluI2DD6Pb4E",
        "outputId": "854796e8-83c3-4aec-8792-a188344aca40"
      },
      "outputs": [
        {
          "name": "stdout",
          "output_type": "stream",
          "text": [
            "Percentage of students who study less than 2 hours per day: 13.53%\n"
          ]
        }
      ],
      "source": [
        "# prompt: Calculate what percentage of students study less than 2 hours per day.\n",
        "\n",
        "# Filter students who study less than 2 hours per day\n",
        "students_less_than_2_hours = df[df['study_hours_per_day'] < 2]\n",
        "\n",
        "# Count the number of students who study less than 2 hours per day\n",
        "num_students_less_than_2_hours = len(students_less_than_2_hours)\n",
        "\n",
        "# Get the total number of students\n",
        "total_students = len(df)\n",
        "\n",
        "# Calculate the percentage\n",
        "percentage_less_than_2_hours = (num_students_less_than_2_hours / total_students) * 100\n",
        "\n",
        "print(f\"Percentage of students who study less than 2 hours per day: {percentage_less_than_2_hours:.2f}%\")\n"
      ]
    },
    {
      "cell_type": "code",
      "execution_count": 22,
      "metadata": {
        "colab": {
          "base_uri": "https://localhost:8080/",
          "height": 458
        },
        "id": "wSvsi4ESPk32",
        "outputId": "d1100711-ab49-4dbb-a2a7-bf7ae3343fee"
      },
      "outputs": [
        {
          "data": {
            "text/html": [
              "<div>\n",
              "<style scoped>\n",
              "    .dataframe tbody tr th:only-of-type {\n",
              "        vertical-align: middle;\n",
              "    }\n",
              "\n",
              "    .dataframe tbody tr th {\n",
              "        vertical-align: top;\n",
              "    }\n",
              "\n",
              "    .dataframe thead th {\n",
              "        text-align: right;\n",
              "    }\n",
              "</style>\n",
              "<table border=\"1\" class=\"dataframe\">\n",
              "  <thead>\n",
              "    <tr style=\"text-align: right;\">\n",
              "      <th></th>\n",
              "      <th>study_hours_per_day</th>\n",
              "    </tr>\n",
              "  </thead>\n",
              "  <tbody>\n",
              "    <tr>\n",
              "      <th>0</th>\n",
              "      <td>True</td>\n",
              "    </tr>\n",
              "    <tr>\n",
              "      <th>1</th>\n",
              "      <td>False</td>\n",
              "    </tr>\n",
              "    <tr>\n",
              "      <th>2</th>\n",
              "      <td>True</td>\n",
              "    </tr>\n",
              "    <tr>\n",
              "      <th>3</th>\n",
              "      <td>True</td>\n",
              "    </tr>\n",
              "    <tr>\n",
              "      <th>4</th>\n",
              "      <td>False</td>\n",
              "    </tr>\n",
              "    <tr>\n",
              "      <th>...</th>\n",
              "      <td>...</td>\n",
              "    </tr>\n",
              "    <tr>\n",
              "      <th>995</th>\n",
              "      <td>False</td>\n",
              "    </tr>\n",
              "    <tr>\n",
              "      <th>996</th>\n",
              "      <td>False</td>\n",
              "    </tr>\n",
              "    <tr>\n",
              "      <th>997</th>\n",
              "      <td>False</td>\n",
              "    </tr>\n",
              "    <tr>\n",
              "      <th>998</th>\n",
              "      <td>False</td>\n",
              "    </tr>\n",
              "    <tr>\n",
              "      <th>999</th>\n",
              "      <td>False</td>\n",
              "    </tr>\n",
              "  </tbody>\n",
              "</table>\n",
              "<p>909 rows × 1 columns</p>\n",
              "</div><br><label><b>dtype:</b> bool</label>"
            ],
            "text/plain": [
              "0       True\n",
              "1      False\n",
              "2       True\n",
              "3       True\n",
              "4      False\n",
              "       ...  \n",
              "995    False\n",
              "996    False\n",
              "997    False\n",
              "998    False\n",
              "999    False\n",
              "Name: study_hours_per_day, Length: 909, dtype: bool"
            ]
          },
          "execution_count": 22,
          "metadata": {},
          "output_type": "execute_result"
        }
      ],
      "source": [
        "df['study_hours_per_day'] < 2"
      ]
    },
    {
      "cell_type": "code",
      "execution_count": 23,
      "metadata": {
        "colab": {
          "base_uri": "https://localhost:8080/"
        },
        "id": "p29zQvIUPoXA",
        "outputId": "96ce2850-30cb-4b19-9978-35b84e40dbb9"
      },
      "outputs": [
        {
          "data": {
            "text/plain": [
              "np.int64(123)"
            ]
          },
          "execution_count": 23,
          "metadata": {},
          "output_type": "execute_result"
        }
      ],
      "source": [
        "(df['study_hours_per_day'] < 2).sum()"
      ]
    },
    {
      "cell_type": "code",
      "execution_count": 24,
      "metadata": {
        "colab": {
          "base_uri": "https://localhost:8080/"
        },
        "id": "8tRdxhP6QTL2",
        "outputId": "11d12e23-4433-4ee0-d066-87da5ed24f99"
      },
      "outputs": [
        {
          "name": "stdout",
          "output_type": "stream",
          "text": [
            "Average exam score for students studying more than 5 hours per day: 91.12\n",
            "Average exam score for students studying 5 hours or less per day: 65.67\n",
            "Students who study more than 5 hours per day have higher exam scores on average.\n"
          ]
        }
      ],
      "source": [
        "# prompt: Do students who study more than 5 hours per day have higher exam scores on average?\n",
        "\n",
        "# Separate students into two groups: those who study more than 5 hours and those who don't\n",
        "students_more_than_5_hours = df[df['study_hours_per_day'] > 5]\n",
        "students_5_hours_or_less = df[df['study_hours_per_day'] <= 5]\n",
        "\n",
        "# Calculate the average exam score for each group\n",
        "average_score_more_than_5_hours = students_more_than_5_hours['exam_score'].mean()\n",
        "average_score_5_hours_or_less = students_5_hours_or_less['exam_score'].mean()\n",
        "\n",
        "print(f\"Average exam score for students studying more than 5 hours per day: {average_score_more_than_5_hours:.2f}\")\n",
        "print(f\"Average exam score for students studying 5 hours or less per day: {average_score_5_hours_or_less:.2f}\")\n",
        "\n",
        "# Compare the averages and print the conclusion\n",
        "if average_score_more_than_5_hours > average_score_5_hours_or_less:\n",
        "    print(\"Students who study more than 5 hours per day have higher exam scores on average.\")\n",
        "else:\n",
        "    print(\"Students who study more than 5 hours per day do not have higher exam scores on average.\")\n"
      ]
    }
  ],
  "metadata": {
    "colab": {
      "provenance": []
    },
    "kernelspec": {
      "display_name": "Python 3",
      "name": "python3"
    },
    "language_info": {
      "name": "python"
    }
  },
  "nbformat": 4,
  "nbformat_minor": 0
}
